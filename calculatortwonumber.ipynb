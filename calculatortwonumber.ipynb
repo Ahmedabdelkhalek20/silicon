{
  "cells": [
    {
      "cell_type": "code",
      "execution_count": 16,
      "metadata": {
        "id": "iQf1bqfzBPsv"
      },
      "outputs": [],
      "source": [
        "## create a simple calculator using module that contain the following operation +,-,*,/,exp,cos,sin, square root, power 2"
      ]
    },
    {
      "cell_type": "code",
      "execution_count": 3,
      "metadata": {
        "id": "FfyA4WrfB9Z-"
      },
      "outputs": [
        {
          "name": "stdout",
          "output_type": "stream",
          "text": [
            "Overwriting calculator_function.py\n"
          ]
        }
      ],
      "source": [
        "%%writefile calculator_function.py\n",
        "import math\n",
        "def add_1 (x,y):\n",
        "    return(x+y)\n",
        "def sub_1 (x,y):\n",
        "    return(x-y)\n",
        "def mult_1 (x,y):\n",
        "    return(x*y) \n",
        "def    devi_1(x,y) :\n",
        "    if y==0:\n",
        "        return 'not accept zero division'\n",
        "    else:\n",
        "        return(x/y) \n",
        "def    exp_1 (x)  :\n",
        "    return(math.exp(x))\n",
        "def cos_1   (x) :\n",
        "    return(math.cos(x))\n",
        "def sin_1   (x) :\n",
        "    return(math.sin(x))\n",
        "def sqrt_1   (x) :\n",
        "    if x<0:\n",
        "        return 'we cant get sqrt for negative parts'\n",
        "    return(math.sqrt(x)) \n",
        "def power_1   (x) :\n",
        "    return(x**2)       \n"
      ]
    },
    {
      "cell_type": "code",
      "execution_count": 4,
      "metadata": {},
      "outputs": [
        {
          "name": "stdout",
          "output_type": "stream",
          "text": [
            "add=x+y= 70.0\n"
          ]
        }
      ],
      "source": [
        "import calculator_function\n",
        "chosse_function=input('chosse sub,add,dev,mult,power,sin,cos,sqrt,exp:')\n",
        "if chosse_function in ['sub','add','dev','mult']:\n",
        "    x=float(input('choose your number1='))\n",
        "    y=float(input('choose your number2='))\n",
        "    if chosse_function=='sub':\n",
        "        print( 'sub=x-y=', calculator_function.sub_1(x,y))\n",
        "    elif chosse_function=='add':\n",
        "        print( 'add=x+y=', calculator_function.add_1(x,y))\n",
        "    elif chosse_function=='mult':\n",
        "        print( 'mult=x*y=', calculator_function.mult_1(x,y))\n",
        "    else:\n",
        "        print( 'devi=x*y=', calculator_function.devi_1(x,y))  \n",
        "elif chosse_function in ['power','sin','cos','sqrt','exp'] :\n",
        "    x=float(input('choose your number1='))\n",
        "    if chosse_function=='power':\n",
        "        print( 'power=x**2=', calculator_function.power_1(x))\n",
        "    elif  chosse_function=='sin': \n",
        "         print( 'sin(x)=', calculator_function.sin_1(x))  \n",
        "    elif chosse_function=='cos':  \n",
        "        print( 'cos(x)=', calculator_function.cos_1(x)) \n",
        "    elif chosse_function=='sqr': \n",
        "        print( 'sqrt=x**.5=', calculator_function.sqrt_1(x)) \n",
        "    else:\n",
        "        print( 'exp(x)=', calculator_function.exp_1(x)) \n",
        "\n",
        "\n",
        "\n",
        "         \n",
        "         \n",
        "\n",
        "\n",
        "           \n",
        "\n",
        "    \n",
        "\n",
        "\n",
        "\n",
        "\n",
        "\n",
        "\n",
        "  \n",
        "      \n",
        "        \n",
        "\n",
        "    \n"
      ]
    }
  ],
  "metadata": {
    "colab": {
      "provenance": []
    },
    "kernelspec": {
      "display_name": "Python 3 (ipykernel)",
      "language": "python",
      "name": "python3"
    },
    "language_info": {
      "codemirror_mode": {
        "name": "ipython",
        "version": 3
      },
      "file_extension": ".py",
      "mimetype": "text/x-python",
      "name": "python",
      "nbconvert_exporter": "python",
      "pygments_lexer": "ipython3",
      "version": "3.11.2"
    }
  },
  "nbformat": 4,
  "nbformat_minor": 0
}
